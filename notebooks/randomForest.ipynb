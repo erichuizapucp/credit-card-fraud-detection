{
 "cells": [
  {
   "cell_type": "code",
   "execution_count": 6,
   "metadata": {},
   "outputs": [],
   "source": [
    "import pandas as pd\n",
    "import numpy as np\n",
    "import matplotlib.pyplot as plt\n",
    "import metodos as m"
   ]
  },
  {
   "cell_type": "code",
   "execution_count": 7,
   "metadata": {},
   "outputs": [],
   "source": [
    "data = pd.read_csv(\"creditcard.csv\")"
   ]
  },
  {
   "cell_type": "code",
   "execution_count": 3,
   "metadata": {},
   "outputs": [],
   "source": [
    "X = data.drop(['Class'], axis=1)\n",
    "y = data['Class']"
   ]
  },
  {
   "cell_type": "code",
   "execution_count": 4,
   "metadata": {},
   "outputs": [],
   "source": [
    "from sklearn.model_selection import train_test_split\n",
    "\n",
    "X_train, X_test, y_train, y_test = train_test_split(X, y, test_size=0.10, random_state=0)"
   ]
  },
  {
   "cell_type": "code",
   "execution_count": 10,
   "metadata": {},
   "outputs": [
    {
     "name": "stdout",
     "output_type": "stream",
     "text": [
      "              +-----------------+\n",
      "              |   Predicción    |\n",
      "              +-----------------+\n",
      "              |    +   |    -   |\n",
      "+-------+-----+--------+--------+\n",
      "| Valor |  +  |   44 |   11   |\n",
      "| real  +-----+--------+--------+\n",
      "|       |  -  |   5  |   28421  |\n",
      "+-------+-----+--------+--------+\n",
      "\n",
      "Exactitud        :  0.9994382219725431\n",
      "Precición        :  0.8979591836734694\n",
      "Exhaustividad    :  0.8\n"
     ]
    }
   ],
   "source": [
    "\n",
    "#Escalamiento de las caracteristicas\n",
    "from sklearn.preprocessing import StandardScaler\n",
    "escalamientoDatos = StandardScaler();\n",
    "X_train = escalamientoDatos.fit_transform(X_train)\n",
    "X_test = escalamientoDatos.transform(X_test)\n",
    "\n",
    "# Clasificador Random Forest\n",
    "from sklearn.ensemble import RandomForestClassifier\n",
    "clasificadorRandomForest = RandomForestClassifier(n_estimators = 50, criterion = 'entropy', random_state = 0)\n",
    "\n",
    "# Entrenando el modelo con el set train\n",
    "clasificadorRandomForest.fit(X_train, y_train)\n",
    "\n",
    "# Obteniendo la matriz de confusion\n",
    "m.MostrarMatrizDeConfusion(clasificadorRandomForest, X_test, y_test)"
   ]
  },
  {
   "cell_type": "code",
   "execution_count": null,
   "metadata": {},
   "outputs": [],
   "source": []
  }
 ],
 "metadata": {
  "kernelspec": {
   "display_name": "Python 3",
   "language": "python",
   "name": "python3"
  },
  "language_info": {
   "codemirror_mode": {
    "name": "ipython",
    "version": 3
   },
   "file_extension": ".py",
   "mimetype": "text/x-python",
   "name": "python",
   "nbconvert_exporter": "python",
   "pygments_lexer": "ipython3",
   "version": "3.6.4"
  }
 },
 "nbformat": 4,
 "nbformat_minor": 2
}
